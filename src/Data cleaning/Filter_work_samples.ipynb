{
 "cells": [
  {
   "cell_type": "code",
   "execution_count": null,
   "id": "initial_id",
   "metadata": {
    "collapsed": true
   },
   "outputs": [],
   "source": "import json"
  },
  {
   "metadata": {},
   "cell_type": "markdown",
   "source": "Work-related samples",
   "id": "15d256115c581925"
  },
  {
   "metadata": {},
   "cell_type": "code",
   "outputs": [],
   "execution_count": null,
   "source": [
    "in_path  = r'D:/MSE 641/MSE 641 Project Data/wildchat_conversation_labeled.jsonl'\n",
    "out_path = r'D:/MSE 641/MSE 641 Project Data/wildchat_work.jsonl'\n",
    "total = 0\n",
    "matched = 0\n",
    "first_sample = None\n",
    "\n",
    "with open(in_path, 'r', encoding='utf-8') as fin, \\\n",
    "     open(out_path, 'w', encoding='utf-8') as fout:\n",
    "    for line in fin:\n",
    "        total += 1\n",
    "        obj = json.loads(line)\n",
    "        lbl = obj.get('predicted_label')\n",
    "        if str(lbl) in ('1', '1.0'):\n",
    "            fout.write(json.dumps(obj, ensure_ascii=False) + '\\n')\n",
    "            matched += 1\n",
    "            if not first_sample:\n",
    "                first_sample = obj\n",
    "\n",
    "print(f\"Total lines processed: {total}\")\n",
    "print(f\"Samples with predicted_label != 1: {matched}\")\n"
   ],
   "id": "1422a9cbdc7680b4"
  },
  {
   "metadata": {},
   "cell_type": "markdown",
   "source": "Filter unique samples",
   "id": "675246959872100d"
  },
  {
   "metadata": {},
   "cell_type": "code",
   "outputs": [],
   "execution_count": null,
   "source": [
    "in_path  = r'D:/MSE 641/MSE 641 Project Data/wildchat_work_only.jsonl'\n",
    "out_path = r'D:/MSE 641/MSE 641 Project Data/wildchat_work_only_unique.jsonl'\n",
    "\n",
    "total = 0\n",
    "matched = 0\n",
    "first_sample = None\n",
    "seen_prompt = set()\n",
    "\n",
    "with open(in_path, 'r', encoding='utf-8') as fin, \\\n",
    "     open(out_path, 'w', encoding='utf-8') as fout:\n",
    "    for line in fin:#\n",
    "        total += 1\n",
    "        obj = json.loads(line)\n",
    "        conv = obj.get('conversation')\n",
    "        # extract prompt\n",
    "        if isinstance(conv, str):\n",
    "            prompt = conv.split('Response:')[0].strip()\n",
    "        elif isinstance(conv, list):\n",
    "            prompt = \"\"\n",
    "            if len(conv) > 0:\n",
    "                if isinstance(conv[0], dict):\n",
    "                    prompt = conv[0].get('content', '') or conv[0].get('content_clean', '')\n",
    "                else:\n",
    "                    prompt = str(conv[0])\n",
    "        else:\n",
    "            prompt = \"\"\n",
    "        # delete duplicate by prompt\n",
    "        prompt_key = prompt.lower().strip()\n",
    "        if prompt_key and prompt_key not in seen_prompt:\n",
    "            fout.write(json.dumps(obj, ensure_ascii=False) + '\\n')\n",
    "            seen_prompt.add(prompt_key)\n",
    "            matched += 1\n",
    "            if not first_sample:\n",
    "                first_sample = obj\n",
    "\n",
    "print(f\"Total lines processed: {total}\")\n",
    "print(f\"Unique samples by Prompt: {matched}\")\n"
   ],
   "id": "2014bd32360bef6"
  },
  {
   "metadata": {},
   "cell_type": "markdown",
   "source": "Non work-related samples ",
   "id": "5bfa45c2a066011c"
  },
  {
   "metadata": {},
   "cell_type": "code",
   "outputs": [],
   "execution_count": null,
   "source": [
    "in_path  = r'D:/MSE 641/MSE 641 Project Data/wildchat_conversation_labeled.jsonl'\n",
    "out_path = r'D:/MSE 641/MSE 641 Project Data/wildchat_not_work.jsonl'\n",
    "total = 0\n",
    "matched = 0\n",
    "first_sample = None\n",
    "\n",
    "with open(in_path, 'r', encoding='utf-8') as fin, \\\n",
    "     open(out_path, 'w', encoding='utf-8') as fout:\n",
    "    for line in fin:\n",
    "        total += 1\n",
    "        obj = json.loads(line)\n",
    "        lbl = obj.get('predicted_label')\n",
    "        if str(lbl) not in ('1', '1.0'):\n",
    "            fout.write(json.dumps(obj, ensure_ascii=False) + '\\n')\n",
    "            matched += 1\n",
    "            if not first_sample:\n",
    "                first_sample = obj\n",
    "\n",
    "print(f\"Total lines processed: {total}\")\n",
    "print(f\"Samples with predicted_label != 1: {matched}\")\n"
   ],
   "id": "c3f707b3b79c6e04"
  },
  {
   "metadata": {},
   "cell_type": "markdown",
   "source": "Filter unique samples",
   "id": "5157e45bc2bf6dd3"
  },
  {
   "metadata": {},
   "cell_type": "code",
   "outputs": [],
   "execution_count": null,
   "source": [
    "in_path  = r'D:/MSE 641/MSE 641 Project Data/wildchat_not_work.jsonl'\n",
    "out_path = r'D:/MSE 641/MSE 641 Project Data/wildchat_not_work_unique_prompt.jsonl'\n",
    "\n",
    "total = 0\n",
    "matched = 0\n",
    "first_sample = None\n",
    "seen_prompt = set()\n",
    "\n",
    "with open(in_path, 'r', encoding='utf-8') as fin, \\\n",
    "     open(out_path, 'w', encoding='utf-8') as fout:\n",
    "    for line in fin:\n",
    "        total += 1\n",
    "        obj = json.loads(line)\n",
    "        conv = obj.get('conversation')\n",
    "        # extract prompt\n",
    "        if isinstance(conv, str):\n",
    "            prompt = conv.split('Response:')[0].strip()\n",
    "        elif isinstance(conv, list):\n",
    "            prompt = \"\"\n",
    "            if len(conv) > 0:\n",
    "                if isinstance(conv[0], dict):\n",
    "                    prompt = conv[0].get('content', '') or conv[0].get('content_clean', '')\n",
    "                else:\n",
    "                    prompt = str(conv[0])\n",
    "        else:\n",
    "            prompt = \"\"\n",
    "        # delete duplicate by prompt\n",
    "        prompt_key = prompt.lower().strip()\n",
    "        if prompt_key and prompt_key not in seen_prompt:\n",
    "            fout.write(json.dumps(obj, ensure_ascii=False) + '\\n')\n",
    "            seen_prompt.add(prompt_key)\n",
    "            matched += 1\n",
    "            if not first_sample:\n",
    "                first_sample = obj\n",
    "\n",
    "print(f\"Total lines processed: {total}\")\n",
    "print(f\"Unique samples by Prompt: {matched}\")\n"
   ],
   "id": "bb455737649c0d83"
  }
 ],
 "metadata": {
  "kernelspec": {
   "display_name": "Python 3",
   "language": "python",
   "name": "python3"
  },
  "language_info": {
   "codemirror_mode": {
    "name": "ipython",
    "version": 2
   },
   "file_extension": ".py",
   "mimetype": "text/x-python",
   "name": "python",
   "nbconvert_exporter": "python",
   "pygments_lexer": "ipython2",
   "version": "2.7.6"
  }
 },
 "nbformat": 4,
 "nbformat_minor": 5
}
