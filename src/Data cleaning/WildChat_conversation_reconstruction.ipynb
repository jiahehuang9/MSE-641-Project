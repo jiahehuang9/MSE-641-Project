{
 "cells": [
  {
   "cell_type": "code",
   "execution_count": null,
   "id": "initial_id",
   "metadata": {
    "collapsed": true
   },
   "outputs": [],
   "source": [
    "import re\n",
    "import json\n",
    "import spacy\n",
    "import unicodedata\n",
    "import pandas as pd\n",
    "from datasets import load_dataset\n",
    "from nltk.stem import SnowballStemmer\n",
    "import openpyxl"
   ]
  },
  {
   "metadata": {},
   "cell_type": "code",
   "outputs": [],
   "execution_count": null,
   "source": [
    "ds_cleaned = load_dataset(\"json\", data_files=\"wildchat_en_cleaned.jsonl\", split=\"train\")\n",
    "\n",
    "def extract_prompt_response_pairs(conversation):\n",
    "    \"\"\"\n",
    "    Yields (user_prompt, ai_response) pairs.\n",
    "    Each pair consists of a user's message and the *next* assistant response.\n",
    "    \"\"\"\n",
    "    pairs = []\n",
    "    i = 0\n",
    "    while i < len(conversation) - 1:\n",
    "        user = conversation[i]\n",
    "        assistant = conversation[i + 1]\n",
    "        if user.get('role') == 'user' and assistant.get('role') == 'assistant':\n",
    "            pairs.append({\n",
    "                \"prompt\": user.get(\"content\", \"\"),\n",
    "                \"response\": assistant.get(\"content\", \"\"),\n",
    "                \"prompt_clean\": user.get(\"content_clean\", \"\"),       \n",
    "                \"response_clean\": assistant.get(\"content_clean\", \"\") \n",
    "            })\n",
    "        i += 1\n",
    "    return pairs\n",
    "\n",
    "all_pairs = []\n",
    "for ex in ds_cleaned:\n",
    "    for pair in extract_prompt_response_pairs(ex[\"conversation\"]):\n",
    "        pair[\"conversation_id\"] = ex.get(\"conversation_id\")\n",
    "        pair[\"model\"] = ex.get(\"model\")\n",
    "        all_pairs.append(pair)\n",
    "\n",
    "with open(\"wildchat_prompt_response_pairs.jsonl\", \"w\", encoding=\"utf-8\") as f:\n",
    "    for pair in all_pairs:\n",
    "        f.write(json.dumps(pair, ensure_ascii=False) + \"\\n\")\n"
   ],
   "id": "ecccd118beb3397f"
  }
 ],
 "metadata": {
  "kernelspec": {
   "display_name": "Python 3",
   "language": "python",
   "name": "python3"
  },
  "language_info": {
   "codemirror_mode": {
    "name": "ipython",
    "version": 2
   },
   "file_extension": ".py",
   "mimetype": "text/x-python",
   "name": "python",
   "nbconvert_exporter": "python",
   "pygments_lexer": "ipython2",
   "version": "2.7.6"
  }
 },
 "nbformat": 4,
 "nbformat_minor": 5
}
